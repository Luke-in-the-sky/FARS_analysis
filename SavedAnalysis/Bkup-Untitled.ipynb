{
 "cells": [
  {
   "cell_type": "code",
   "execution_count": 6,
   "metadata": {
    "collapsed": true
   },
   "outputs": [],
   "source": [
    "import pandas as pd\n",
    "import numpy as np\n",
    "from numpy.random import randn"
   ]
  },
  {
   "cell_type": "code",
   "execution_count": 13,
   "metadata": {
    "collapsed": false
   },
   "outputs": [
    {
     "data": {
      "text/plain": [
       "0.4"
      ]
     },
     "execution_count": 13,
     "metadata": {},
     "output_type": "execute_result"
    }
   ],
   "source": [
    "ts = pd.Series(randn(10))\n",
    "ts[2:-2] = np.nan\n",
    "sts = ts.fillna(0).to_sparse(fill_value=0)\n",
    "sts.density\n"
   ]
  },
  {
   "cell_type": "code",
   "execution_count": 15,
   "metadata": {
    "collapsed": false
   },
   "outputs": [
    {
     "data": {
      "text/plain": [
       "0   -1.562886\n",
       "1   -1.796891\n",
       "2    0.000000\n",
       "3    0.000000\n",
       "4    0.000000\n",
       "5    0.000000\n",
       "6    0.000000\n",
       "7    0.000000\n",
       "8    1.812606\n",
       "9   -0.309717\n",
       "dtype: float64\n",
       "BlockIndex\n",
       "Block locations: array([0, 8])\n",
       "Block lengths: array([2, 2])"
      ]
     },
     "execution_count": 15,
     "metadata": {},
     "output_type": "execute_result"
    }
   ],
   "source": []
  },
  {
   "cell_type": "code",
   "execution_count": null,
   "metadata": {
    "collapsed": true
   },
   "outputs": [],
   "source": []
  },
  {
   "cell_type": "code",
   "execution_count": null,
   "metadata": {
    "collapsed": true
   },
   "outputs": [],
   "source": []
  },
  {
   "cell_type": "markdown",
   "metadata": {},
   "source": [
    "Import data and modules\n",
    "-----"
   ]
  },
  {
   "cell_type": "code",
   "execution_count": null,
   "metadata": {
    "collapsed": false
   },
   "outputs": [],
   "source": [
    "import pandas as pd\n",
    "import numpy as np\n",
    "import matplotlib.pyplot as plt\n",
    "from time import time\n",
    "%matplotlib inline\n",
    "\n",
    "\n",
    "# load the dataset\n",
    "data = pd.read_csv('LargeDatabase.txt', engine = 'python', sep='\\t', index_col='Obs.')\n",
    "data = data.drop('Unnamed: 94', 1)\n",
    "#data.columns = ['state','caseNum','vehicleNum','personNum',\n",
    "#              'atmCond1','atmCond2','county',\n",
    "#              'crashMonth','dayOfWeek','firstHarmfulEvent',\n",
    "#              'numFatalities','age','alcohol','drug']"
   ]
  },
  {
   "cell_type": "code",
   "execution_count": null,
   "metadata": {
    "collapsed": false,
    "scrolled": false
   },
   "outputs": [],
   "source": [
    "# Select interesting stuff\n",
    "# --------------\n",
    "\n",
    "# Load Code manual\n",
    "import pickle\n",
    "code_manual = pickle.load( open( \"CodeManual.p\", \"rb\" ) )\n",
    "\n",
    "# Select interesting features and map them to their respective\n",
    "#   names in the code manual\n",
    "translate_column_names = {\n",
    "'driverdrowsy' : 'Drowsy driver',\n",
    "'ptype' : 'Person Type',\n",
    "'druginv' : 'Police Reported Drug Involvement',\n",
    "'heavytruck': 'Large Truck Related',\n",
    "'schlbus' : 'School Bus Related',\n",
    "'sex' : 'Sex',\n",
    "'race' : 'Race',\n",
    "'reljuncinter' : 'Relation To Junction: Within Interchange Area',\n",
    "'atmcond': 'Atmospheric Condition (1)',\n",
    "'holiday' : 'Holiday Related',\n",
    "'nhs' : 'National Highway System',\n",
    "'hispanic' : 'Hispanic',\n",
    "'rfun' : 'Roadway Function Class',\n",
    "'lightcond' : 'Light Condition',\n",
    "'speeding' : 'Speeding',\n",
    "'dayofweek' : 'Day Of Week',\n",
    "}\n",
    "\n",
    "also_interesting = ['age', 'alcres']\n",
    "\n",
    "labelsOfInter = list(translate_column_names.keys())\n",
    "labelsOfInter.extend(also_interesting)\n",
    "\n",
    "data = data[labelsOfInter].applymap(lambda x: -1 if x == '.' else int(x))"
   ]
  },
  {
   "cell_type": "markdown",
   "metadata": {},
   "source": [
    "Reduce dimensionality\n",
    "-----------"
   ]
  },
  {
   "cell_type": "code",
   "execution_count": null,
   "metadata": {
    "collapsed": false
   },
   "outputs": [],
   "source": [
    "# Collapse some features values\n",
    "# ------------\n",
    "\n",
    "# Categorize on number of Fatalities\n",
    "def NumFatalitiesToCategory(num):\n",
    "    if num <3:\n",
    "        return 1\n",
    "    elif (num>=3) and (num<6):\n",
    "        return 2\n",
    "    return 3\n",
    "\n",
    "# Reduce categories in 'Light Condition'\n",
    "code_manual[translate_column_names['lightcond']][11] = 'Dawn/Dusk'\n",
    "code_manual[translate_column_names['lightcond']][12] = 'Dark'\n",
    "def Collaps_lightcond(num):\n",
    "    if num == 4 or num == 5:\n",
    "        return 11\n",
    "    elif num in [6,8,9]: #unknown\n",
    "        return -1\n",
    "    return num\n",
    "\n",
    "# Reduce categories in \"Roadway Function Class\"\n",
    "code_manual[translate_column_names['rfun']][21] = 'Rural'\n",
    "code_manual[translate_column_names['rfun']][22] = 'Urban'\n",
    "def Collaps_rfun(num):\n",
    "    if num in range(1,10):\n",
    "        return 21\n",
    "    elif num in range(11,20):\n",
    "        return 22\n",
    "    elif num == 99: #unknown\n",
    "        return -1\n",
    "    return num\n",
    "\n",
    "\n",
    "# Reduce categories in \"Holiday Related\"\n",
    "code_manual[translate_column_names['holiday']][-1] = 'Not Holiday or Unknow date'\n",
    "code_manual[translate_column_names['holiday']][1] = 'Was Holiday'\n",
    "def Collaps_holiday(num):\n",
    "    if num >0:\n",
    "        return 1\n",
    "    return num\n",
    "\n",
    "\n",
    "# Reduce categories in \"Atmospheric Condition (1)\"\n",
    "code_manual[translate_column_names['atmcond']][1] = 'Clear or Cloudy'\n",
    "code_manual[translate_column_names['atmcond']][2] = 'Precipitation'\n",
    "code_manual[translate_column_names['atmcond']][4] = 'Snow'\n",
    "code_manual[translate_column_names['atmcond']][6] = \"Severe Crosswinds, Blowing Sand, Soil, Dirt\",\n",
    "def Collaps_atmcond(num):\n",
    "    if num in [8, 0, 98, 99]: #other or not known\n",
    "        return -1\n",
    "    elif num in [1,10]:\n",
    "        return 1\n",
    "    elif num in [2,12,3]:\n",
    "        return 2\n",
    "    elif num in [6,7]:\n",
    "        return 6\n",
    "    return num\n",
    "\n",
    "\n",
    "# Reduce categories in \"Person Type\"\n",
    "code_manual[translate_column_names['ptype']][1] = 'In a Motor vehicle'\n",
    "code_manual[translate_column_names['ptype']][4] = 'Non-Motor vehicle'\n",
    "def Collaps_ptype(num):\n",
    "    if num in [-1,19]: #other or not known\n",
    "        return -1\n",
    "    elif num in [1,2,9,3]:\n",
    "        return 1\n",
    "    elif num in [4,8,6,7]:\n",
    "        return 4\n",
    "    return num\n",
    "\n",
    "# Reduce categories in \"Hispanic\"\n",
    "code_manual[translate_column_names['hispanic']][10] = 'Is Hispanic'\n",
    "def Collaps_hispanic(num):\n",
    "    if num in [-1,99,0]: #other or not known\n",
    "        return -1\n",
    "    elif num in range(1,7):\n",
    "        return 10\n",
    "    return num\n",
    "\n",
    "\n",
    "# Reduce categories in \"Race\"\n",
    "code_manual[translate_column_names['race']][30] = 'American Indian or Hawaiian'\n",
    "code_manual[translate_column_names['race']][31] = 'Asian (not Indian)'\n",
    "code_manual[translate_column_names['race']][32] = 'Indian'\n",
    "def Collaps_race(num):\n",
    "    if num in [-1, 0, 98, 99, 97]: #other or not known\n",
    "        return -1\n",
    "    elif num in [3,6]:  \n",
    "        return 30\n",
    "    elif num in [4,5,7,28,38,48,58,68,78]:  \n",
    "        return 31\n",
    "    elif num in [18,19]:  \n",
    "        return 32\n",
    "    return num\n"
   ]
  },
  {
   "cell_type": "code",
   "execution_count": null,
   "metadata": {
    "collapsed": true
   },
   "outputs": [],
   "source": [
    "# apply reduction of categories cardinality\n",
    "data.lightcond = data.lightcond.apply(Collaps_lightcond )\n",
    "data.rfun      = data.rfun.apply(Collaps_rfun  )\n",
    "data.holiday   = data.holiday.apply(Collaps_holiday )\n",
    "data.atmcond   = data.atmcond.apply(Collaps_atmcond )\n",
    "data.ptype     = data.ptype.apply(Collaps_ptype )\n",
    "data.hispanic  = data.hispanic.apply(Collaps_hispanic )\n",
    "data.race      = data.race.apply(Collaps_race)"
   ]
  },
  {
   "cell_type": "code",
   "execution_count": 114,
   "metadata": {
    "collapsed": false
   },
   "outputs": [],
   "source": [
    "# Map different types of 'unknown' to a single number\n",
    "unknown = {'druginv': [8,9],\n",
    "           'nhs'    : [9],\n",
    "           'reljuncinter': [8,9],\n",
    "           'dayofweek': [-1,9],\n",
    "           'sex'     : [8,9],\n",
    "           'age'     : [-1, 998, 999],\n",
    "           'alcres'  : [95, 96, 97, 98, 99],\n",
    "           'druginv' : [-1, 8, 9]\n",
    "          }\n",
    "\n",
    "# collaps all keys for 'unknown' into '-1' value\n",
    "for feature in unknown.keys():\n",
    "    data[feature] = data[feature].apply(lambda x: x if x not in unknown[feature] else -1)"
   ]
  },
  {
   "cell_type": "markdown",
   "metadata": {},
   "source": [
    "One-Hot encoder where needed\n",
    "-------------"
   ]
  },
  {
   "cell_type": "code",
   "execution_count": 135,
   "metadata": {
    "collapsed": true
   },
   "outputs": [],
   "source": [
    "def categorize_a_label(dataset, labl_to_categ = 'drug'):\n",
    "    '''\n",
    "    Use One-hot encoder on a categorical feature,\n",
    "    join it back to the original dataframe\n",
    "    and return the new dataframe\n",
    "    '''\n",
    "    tt = dataset[labl_to_categ]\n",
    "    tt_df = pd.get_dummies(tt)\n",
    "    tt_df.columns = [ '%s:%d'%(labl_to_categ, value) for value in tt_df.keys() ]\n",
    "    dataset = dataset.join(tt_df)\n",
    "    dataset = dataset.drop(labl_to_categ,1)\n",
    "    return dataset\n",
    "\n",
    "categorical_features_list = ['lightcond', 'schlbus', 'druginv', 'nhs', 'speeding', 'rfun', 'holiday',\n",
    "                           'atmcond', 'heavytruck', 'reljuncinter', 'ptype', 'dayofweek',\n",
    "                           'hispanic', 'race', 'driverdrowsy']\n",
    "non_categ_features_list = [ 'sex', 'age', 'alcres' ]\n",
    "\n",
    "target_name = 'dayofweek'"
   ]
  },
  {
   "cell_type": "code",
   "execution_count": 237,
   "metadata": {
    "collapsed": false
   },
   "outputs": [],
   "source": [
    "#clean = data.copy()\n",
    "for feature in data.keys():\n",
    "    if feature == target_name:\n",
    "        continue\n",
    "    elif feature in categorical_features_list:\n",
    "        data = categorize_a_label(data, labl_to_categ = feature)\n",
    "    elif feature in non_categ_features_list:\n",
    "        continue\n",
    "    else:\n",
    "        print(\"!!! Don't know whether\", feature, 'is categorical or not')\n",
    "        break"
   ]
  },
  {
   "cell_type": "markdown",
   "metadata": {},
   "source": [
    "Select n features, analyze and return score\n",
    "-----"
   ]
  },
  {
   "cell_type": "code",
   "execution_count": 238,
   "metadata": {
    "collapsed": false
   },
   "outputs": [],
   "source": [
    "def run_analysis(clean_dataset, target_name):\n",
    "    # Separate into train_features, train_label and test_feature, test_label\n",
    "    threshold = int(round(len(clean_dataset)*.70))\n",
    "    train_features  = clean_dataset[:threshold].drop(target_name,1)\n",
    "    test_feature    = clean_dataset[threshold:].drop(target_name,1)\n",
    "    train_label     = clean_dataset[target_name][:threshold]\n",
    "    test_label      = clean_dataset[target_name][threshold:]\n",
    "    \n",
    "    # Train decision tree\n",
    "    from sklearn.tree import DecisionTreeClassifier\n",
    "    clf = DecisionTreeClassifier(max_depth = 5)\n",
    "    clf.fit(train_features, train_label)\n",
    "    predict = clf.predict(test_feature)\n",
    "     \n",
    "    return clf.score(test_feature, test_label)"
   ]
  },
  {
   "cell_type": "code",
   "execution_count": 251,
   "metadata": {
    "collapsed": true
   },
   "outputs": [],
   "source": [
    "from itertools import combinations as comb\n",
    "output = {}\n",
    "target_name = 'dayofweek'"
   ]
  },
  {
   "cell_type": "code",
   "execution_count": 253,
   "metadata": {
    "collapsed": false
   },
   "outputs": [
    {
     "name": "stdout",
     "output_type": "stream",
     "text": [
      "\n",
      "-- lightcond\n",
      "schlbus, druginv, nhs, speeding, rfun, holiday, atmcond, heavytruck, reljuncinter, ptype, hispanic, race, driverdrowsy, sex, age, \n",
      "-- schlbus\n",
      "druginv, nhs, speeding, rfun, holiday, atmcond, heavytruck, reljuncinter, ptype, hispanic, race, driverdrowsy, sex, age, \n",
      "-- druginv\n",
      "nhs, speeding, rfun, holiday, atmcond, heavytruck, reljuncinter, ptype, hispanic, race, driverdrowsy, sex, age, \n",
      "-- nhs\n",
      "speeding, rfun, holiday, atmcond, heavytruck, reljuncinter, ptype, hispanic, race, driverdrowsy, sex, age, \n",
      "-- speeding\n",
      "rfun, holiday, atmcond, heavytruck, reljuncinter, ptype, hispanic, race, driverdrowsy, sex, age, \n",
      "-- rfun\n",
      "holiday, atmcond, heavytruck, reljuncinter, ptype, hispanic, race, driverdrowsy, sex, age, \n",
      "-- holiday\n",
      "atmcond, heavytruck, reljuncinter, ptype, hispanic, race, driverdrowsy, sex, age, \n",
      "-- atmcond\n",
      "heavytruck, reljuncinter, ptype, hispanic, race, driverdrowsy, sex, age, \n",
      "-- heavytruck\n",
      "reljuncinter, ptype, hispanic, race, driverdrowsy, sex, age, \n",
      "-- reljuncinter\n",
      "ptype, hispanic, race, driverdrowsy, sex, age, \n",
      "-- ptype\n",
      "hispanic, race, driverdrowsy, sex, age, \n",
      "-- hispanic\n",
      "race, driverdrowsy, sex, age, \n",
      "-- race\n",
      "driverdrowsy, sex, age, \n",
      "-- driverdrowsy\n",
      "sex, age, \n",
      "-- sex\n"
     ]
    }
   ],
   "source": [
    "ww0 = ''\n",
    "ww = ''\n",
    "for sel_feat in comb(labelsOfInter, 3):\n",
    "    features = list(sel_feat)\n",
    "   \n",
    "    if target_name in features:\n",
    "        features = features.remove(target_name)\n",
    "        continue\n",
    "    if str(features) in output.keys():\n",
    "        continue\n",
    "        \n",
    "    #is it a new word?\n",
    "    if features[0] != ww:\n",
    "        print('\\n--', features[0])\n",
    "        ww = features[0]\n",
    "    try:\n",
    "        if features[1] != ww0:\n",
    "            print(features[1], end=\", \")\n",
    "            ww0 = features[1]      \n",
    "    except IndexError:\n",
    "        pass\n",
    "    \n",
    "    # There are many keys in the dataset for one feature\n",
    "    # because we passed the one-hot encoder.\n",
    "    #  we want to select all keys corresponding to\n",
    "    #  the given feature\n",
    "    sel_keys = []\n",
    "    for feat in features:\n",
    "        for key in data.keys():\n",
    "            if key.startswith(feat):\n",
    "                sel_keys.append(key)\n",
    "    sel_keys.append(target_name)\n",
    "    clean = data[sel_keys]#.copy()\n",
    "\n",
    "    output[str(features)] = run_analysis(clean, target_name)"
   ]
  },
  {
   "cell_type": "code",
   "execution_count": 254,
   "metadata": {
    "collapsed": false
   },
   "outputs": [
    {
     "data": {
      "text/plain": [
       "['lightcond', 'druginv', 'heavytruck']       0.199625\n",
       "['lightcond', 'heavytruck', 'alcres']        0.199534\n",
       "['schlbus', 'speeding', 'heavytruck']        0.199168\n",
       "['schlbus', 'holiday', 'heavytruck']         0.199168\n",
       "['schlbus', 'heavytruck', 'reljuncinter']    0.199030\n",
       "['heavytruck', 'sex', 'age']                 0.198893\n",
       "['speeding', 'rfun', 'heavytruck']           0.198848\n",
       "['schlbus', 'heavytruck', 'sex']             0.198802\n",
       "['rfun', 'heavytruck', 'race']               0.198802\n",
       "['schlbus', 'heavytruck']                    0.198802\n",
       "dtype: float64"
      ]
     },
     "execution_count": 254,
     "metadata": {},
     "output_type": "execute_result"
    }
   ],
   "source": [
    "pp = pd.Series(output)\n",
    "pp.sort_values(ascending=False)[:10]"
   ]
  },
  {
   "cell_type": "markdown",
   "metadata": {},
   "source": [
    "Export the tree\n",
    "---------"
   ]
  },
  {
   "cell_type": "code",
   "execution_count": 142,
   "metadata": {
    "collapsed": true
   },
   "outputs": [],
   "source": [
    "def rules(clf, features, labels, node_index=0, simple_leaf_string=True):\n",
    "    \"\"\"Structure of rules in a fit decision tree classifier\n",
    "\n",
    "    Parameters\n",
    "    ----------\n",
    "    clf : DecisionTreeClassifier\n",
    "        A tree that has already been fit.\n",
    "\n",
    "    features, labels : lists of str\n",
    "        The names of the features and labels, respectively.\n",
    "\n",
    "    \"\"\"\n",
    "    node = {}\n",
    "    if clf.tree_.children_left[node_index] == -1:  # indicates leaf\n",
    "        count_labels = zip(clf.tree_.value[node_index, 0], labels)\n",
    "        node['name'] = ', '.join(('{} of {}'.format(int(count), label)\n",
    "                                  for count, label in count_labels))\n",
    "        if simple_leaf_string:\n",
    "            node['name'] = simplify_string(node['name'])\n",
    "    else:\n",
    "        feature = features[clf.tree_.feature[node_index]]\n",
    "        threshold = clf.tree_.threshold[node_index]\n",
    "        node['name'] = '{} > {}'.format(feature, threshold)\n",
    "        left_index = clf.tree_.children_left[node_index]\n",
    "        right_index = clf.tree_.children_right[node_index]\n",
    "        node['children'] = [rules(clf, features, labels, right_index, simple_leaf_string),\n",
    "                            rules(clf, features, labels, left_index, simple_leaf_string)]\n",
    "    return node\n",
    "\n",
    "def simplify_string(st):\n",
    "    #st = '772 of Sun, 838 of Mon, 862 of Tue, 899 of Wed, 919 of Thu, 1024 of Fri, 994 of Sat'\n",
    "    st = st.split(', ')\n",
    "    nums = [ int(entry.split()[0]) for entry in st ]\n",
    "    pred_day = label_dictionary[nums.index(max(nums))]\n",
    "    return pred_day"
   ]
  },
  {
   "cell_type": "code",
   "execution_count": 144,
   "metadata": {
    "collapsed": false
   },
   "outputs": [
    {
     "data": {
      "text/plain": [
       "{1, 2, 3, 4, 5, 6, 7}"
      ]
     },
     "execution_count": 144,
     "metadata": {},
     "output_type": "execute_result"
    }
   ],
   "source": [
    "set(clean.dayofweek)"
   ]
  },
  {
   "cell_type": "code",
   "execution_count": 145,
   "metadata": {
    "collapsed": false
   },
   "outputs": [],
   "source": [
    "import json\n",
    "label_dictionary = 'Sun Mon Tue Wed Thu Fri Sat'.split()\n",
    "r = rules(clf, train_features.keys(), label_dictionary, simple_leaf_string=True)\n",
    "with open('rules.json', 'w') as f:\n",
    "    f.write(json.dumps(r))"
   ]
  },
  {
   "cell_type": "code",
   "execution_count": 146,
   "metadata": {
    "collapsed": false
   },
   "outputs": [
    {
     "data": {
      "text/html": [
       "<div>\n",
       "<table border=\"1\" class=\"dataframe\">\n",
       "  <thead>\n",
       "    <tr style=\"text-align: right;\">\n",
       "      <th></th>\n",
       "      <th>alcres</th>\n",
       "      <th>age</th>\n",
       "      <th>druginv:-1</th>\n",
       "      <th>druginv:0</th>\n",
       "      <th>druginv:1</th>\n",
       "      <th>atmcond:-1</th>\n",
       "      <th>atmcond:1</th>\n",
       "      <th>atmcond:2</th>\n",
       "      <th>atmcond:4</th>\n",
       "      <th>atmcond:5</th>\n",
       "      <th>atmcond:6</th>\n",
       "      <th>atmcond:11</th>\n",
       "    </tr>\n",
       "    <tr>\n",
       "      <th>Obs.</th>\n",
       "      <th></th>\n",
       "      <th></th>\n",
       "      <th></th>\n",
       "      <th></th>\n",
       "      <th></th>\n",
       "      <th></th>\n",
       "      <th></th>\n",
       "      <th></th>\n",
       "      <th></th>\n",
       "      <th></th>\n",
       "      <th></th>\n",
       "      <th></th>\n",
       "    </tr>\n",
       "  </thead>\n",
       "  <tbody>\n",
       "    <tr>\n",
       "      <th>1</th>\n",
       "      <td>26</td>\n",
       "      <td>24</td>\n",
       "      <td>1</td>\n",
       "      <td>0</td>\n",
       "      <td>0</td>\n",
       "      <td>0</td>\n",
       "      <td>1</td>\n",
       "      <td>0</td>\n",
       "      <td>0</td>\n",
       "      <td>0</td>\n",
       "      <td>0</td>\n",
       "      <td>0</td>\n",
       "    </tr>\n",
       "    <tr>\n",
       "      <th>2</th>\n",
       "      <td>-1</td>\n",
       "      <td>30</td>\n",
       "      <td>1</td>\n",
       "      <td>0</td>\n",
       "      <td>0</td>\n",
       "      <td>0</td>\n",
       "      <td>1</td>\n",
       "      <td>0</td>\n",
       "      <td>0</td>\n",
       "      <td>0</td>\n",
       "      <td>0</td>\n",
       "      <td>0</td>\n",
       "    </tr>\n",
       "    <tr>\n",
       "      <th>3</th>\n",
       "      <td>31</td>\n",
       "      <td>52</td>\n",
       "      <td>0</td>\n",
       "      <td>1</td>\n",
       "      <td>0</td>\n",
       "      <td>0</td>\n",
       "      <td>1</td>\n",
       "      <td>0</td>\n",
       "      <td>0</td>\n",
       "      <td>0</td>\n",
       "      <td>0</td>\n",
       "      <td>0</td>\n",
       "    </tr>\n",
       "    <tr>\n",
       "      <th>4</th>\n",
       "      <td>-1</td>\n",
       "      <td>17</td>\n",
       "      <td>1</td>\n",
       "      <td>0</td>\n",
       "      <td>0</td>\n",
       "      <td>0</td>\n",
       "      <td>1</td>\n",
       "      <td>0</td>\n",
       "      <td>0</td>\n",
       "      <td>0</td>\n",
       "      <td>0</td>\n",
       "      <td>0</td>\n",
       "    </tr>\n",
       "    <tr>\n",
       "      <th>5</th>\n",
       "      <td>-1</td>\n",
       "      <td>18</td>\n",
       "      <td>1</td>\n",
       "      <td>0</td>\n",
       "      <td>0</td>\n",
       "      <td>0</td>\n",
       "      <td>1</td>\n",
       "      <td>0</td>\n",
       "      <td>0</td>\n",
       "      <td>0</td>\n",
       "      <td>0</td>\n",
       "      <td>0</td>\n",
       "    </tr>\n",
       "  </tbody>\n",
       "</table>\n",
       "</div>"
      ],
      "text/plain": [
       "      alcres  age  druginv:-1  druginv:0  druginv:1  atmcond:-1  atmcond:1  \\\n",
       "Obs.                                                                         \n",
       "1         26   24           1          0          0           0          1   \n",
       "2         -1   30           1          0          0           0          1   \n",
       "3         31   52           0          1          0           0          1   \n",
       "4         -1   17           1          0          0           0          1   \n",
       "5         -1   18           1          0          0           0          1   \n",
       "\n",
       "      atmcond:2  atmcond:4  atmcond:5  atmcond:6  atmcond:11  \n",
       "Obs.                                                          \n",
       "1             0          0          0          0           0  \n",
       "2             0          0          0          0           0  \n",
       "3             0          0          0          0           0  \n",
       "4             0          0          0          0           0  \n",
       "5             0          0          0          0           0  "
      ]
     },
     "execution_count": 146,
     "metadata": {},
     "output_type": "execute_result"
    }
   ],
   "source": [
    "train_features.head()"
   ]
  },
  {
   "cell_type": "code",
   "execution_count": null,
   "metadata": {
    "collapsed": true
   },
   "outputs": [],
   "source": []
  }
 ],
 "metadata": {
  "kernelspec": {
   "display_name": "Python 3",
   "language": "python",
   "name": "python3"
  },
  "language_info": {
   "codemirror_mode": {
    "name": "ipython",
    "version": 3
   },
   "file_extension": ".py",
   "mimetype": "text/x-python",
   "name": "python",
   "nbconvert_exporter": "python",
   "pygments_lexer": "ipython3",
   "version": "3.5.1"
  }
 },
 "nbformat": 4,
 "nbformat_minor": 0
}
